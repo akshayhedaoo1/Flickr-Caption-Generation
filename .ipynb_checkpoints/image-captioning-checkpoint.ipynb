{
 "cells": [
  {
   "cell_type": "markdown",
   "metadata": {
    "papermill": {
     "duration": 0.025697,
     "end_time": "2021-11-23T10:14:18.861110",
     "exception": false,
     "start_time": "2021-11-23T10:14:18.835413",
     "status": "completed"
    },
    "tags": []
   },
   "source": []
  },
  {
   "cell_type": "code",
   "execution_count": null,
   "metadata": {
    "_cell_guid": "b1076dfc-b9ad-4769-8c92-a6c4dae69d19",
    "_uuid": "8f2839f25d086af736a60e9eeb907d3b93b6e0e5",
    "execution": {
     "iopub.execute_input": "2021-11-23T10:14:18.923565Z",
     "iopub.status.busy": "2021-11-23T10:14:18.922752Z",
     "iopub.status.idle": "2021-11-23T10:14:24.451819Z",
     "shell.execute_reply": "2021-11-23T10:14:24.452303Z",
     "shell.execute_reply.started": "2021-11-23T08:38:33.725032Z"
    },
    "papermill": {
     "duration": 5.565157,
     "end_time": "2021-11-23T10:14:24.452569",
     "exception": false,
     "start_time": "2021-11-23T10:14:18.887412",
     "status": "completed"
    },
    "tags": []
   },
   "outputs": [],
   "source": [
    "import pandas as pd\n",
    "import numpy as np\n",
    "import string\n",
    "import cv2\n",
    "import re\n",
    "import nltk\n",
    "import matplotlib.pyplot as plt\n",
    "import tensorflow as tf\n",
    "from tensorflow.keras.layers import Dense, Flatten, Dropout, Input, Embedding, LSTM, TimeDistributed, Concatenate, RepeatVector, Activation\n",
    "from tensorflow.keras.utils import to_categorical\n",
    "from tensorflow.keras.models import Model, Sequential\n",
    "from tensorflow.keras.applications import ResNet50\n",
    "from tensorflow.keras.preprocessing.image import ImageDataGenerator\n",
    "from tensorflow.keras.preprocessing.text import one_hot\n",
    "from tensorflow.keras.preprocessing.sequence import pad_sequences\n",
    "import nltk\n",
    "from nltk.corpus import stopwords"
   ]
  },
  {
   "cell_type": "code",
   "execution_count": 2,
   "metadata": {
    "execution": {
     "iopub.execute_input": "2021-11-23T10:14:24.514484Z",
     "iopub.status.busy": "2021-11-23T10:14:24.513877Z",
     "iopub.status.idle": "2021-11-23T10:14:24.786453Z",
     "shell.execute_reply": "2021-11-23T10:14:24.787155Z",
     "shell.execute_reply.started": "2021-11-23T08:38:39.246928Z"
    },
    "papermill": {
     "duration": 0.3081,
     "end_time": "2021-11-23T10:14:24.787339",
     "exception": false,
     "start_time": "2021-11-23T10:14:24.479239",
     "status": "completed"
    },
    "tags": []
   },
   "outputs": [
    {
     "name": "stdout",
     "output_type": "stream",
     "text": [
      "[nltk_data] Downloading package stopwords to /usr/share/nltk_data...\n",
      "[nltk_data]   Unzipping corpora/stopwords.zip.\n",
      "[nltk_data] Downloading package punkt to /usr/share/nltk_data...\n",
      "[nltk_data]   Package punkt is already up-to-date!\n"
     ]
    },
    {
     "data": {
      "text/plain": [
       "True"
      ]
     },
     "execution_count": 2,
     "metadata": {},
     "output_type": "execute_result"
    }
   ],
   "source": [
    "nltk.download('stopwords')\n",
    "nltk.download('punkt')"
   ]
  },
  {
   "cell_type": "code",
   "execution_count": 3,
   "metadata": {
    "execution": {
     "iopub.execute_input": "2021-11-23T10:14:24.841059Z",
     "iopub.status.busy": "2021-11-23T10:14:24.839516Z",
     "iopub.status.idle": "2021-11-23T10:14:24.843270Z",
     "shell.execute_reply": "2021-11-23T10:14:24.842870Z",
     "shell.execute_reply.started": "2021-11-23T08:38:39.378346Z"
    },
    "papermill": {
     "duration": 0.030619,
     "end_time": "2021-11-23T10:14:24.843381",
     "exception": false,
     "start_time": "2021-11-23T10:14:24.812762",
     "status": "completed"
    },
    "tags": []
   },
   "outputs": [],
   "source": [
    "path = '../input/flickr8k-sau/Flickr_Data/Images/'"
   ]
  },
  {
   "cell_type": "code",
   "execution_count": 4,
   "metadata": {
    "execution": {
     "iopub.execute_input": "2021-11-23T10:14:24.896461Z",
     "iopub.status.busy": "2021-11-23T10:14:24.895820Z",
     "iopub.status.idle": "2021-11-23T10:14:25.105280Z",
     "shell.execute_reply": "2021-11-23T10:14:25.104832Z",
     "shell.execute_reply.started": "2021-11-23T08:38:39.385509Z"
    },
    "papermill": {
     "duration": 0.237442,
     "end_time": "2021-11-23T10:14:25.105385",
     "exception": false,
     "start_time": "2021-11-23T10:14:24.867943",
     "status": "completed"
    },
    "tags": []
   },
   "outputs": [
    {
     "data": {
      "text/plain": [
       "8091"
      ]
     },
     "execution_count": 4,
     "metadata": {},
     "output_type": "execute_result"
    }
   ],
   "source": [
    "from glob import glob\n",
    "Images = glob(path+'*.jpg')\n",
    "len(Images)"
   ]
  },
  {
   "cell_type": "code",
   "execution_count": 5,
   "metadata": {
    "execution": {
     "iopub.execute_input": "2021-11-23T10:14:25.159451Z",
     "iopub.status.busy": "2021-11-23T10:14:25.158772Z",
     "iopub.status.idle": "2021-11-23T10:14:25.161418Z",
     "shell.execute_reply": "2021-11-23T10:14:25.161005Z",
     "shell.execute_reply.started": "2021-11-23T08:38:39.590818Z"
    },
    "papermill": {
     "duration": 0.03086,
     "end_time": "2021-11-23T10:14:25.161515",
     "exception": false,
     "start_time": "2021-11-23T10:14:25.130655",
     "status": "completed"
    },
    "tags": []
   },
   "outputs": [],
   "source": [
    "Images = Images[0:2000]"
   ]
  },
  {
   "cell_type": "code",
   "execution_count": null,
   "metadata": {
    "execution": {
     "iopub.execute_input": "2021-11-23T10:14:25.218433Z",
     "iopub.status.busy": "2021-11-23T10:14:25.217938Z",
     "iopub.status.idle": "2021-11-23T10:14:29.684364Z",
     "shell.execute_reply": "2021-11-23T10:14:29.685379Z"
    },
    "papermill": {
     "duration": 4.499103,
     "end_time": "2021-11-23T10:14:29.685606",
     "exception": false,
     "start_time": "2021-11-23T10:14:25.186503",
     "status": "completed"
    },
    "tags": []
   },
   "outputs": [],
   "source": [
    "resnet = ResNet50(include_top = True)\n",
    "resnet.summary()"
   ]
  },
  {
   "cell_type": "code",
   "execution_count": 7,
   "metadata": {
    "execution": {
     "iopub.execute_input": "2021-11-23T10:14:29.835103Z",
     "iopub.status.busy": "2021-11-23T10:14:29.833696Z",
     "iopub.status.idle": "2021-11-23T10:14:29.835817Z",
     "shell.execute_reply": "2021-11-23T10:14:29.834440Z",
     "shell.execute_reply.started": "2021-11-23T08:38:43.345975Z"
    },
    "papermill": {
     "duration": 0.080781,
     "end_time": "2021-11-23T10:14:29.835966",
     "exception": false,
     "start_time": "2021-11-23T10:14:29.755185",
     "status": "completed"
    },
    "tags": []
   },
   "outputs": [],
   "source": [
    "last = resnet.layers[-2].output\n",
    "model1 = Model(inputs = resnet.input, outputs=last)"
   ]
  },
  {
   "cell_type": "code",
   "execution_count": null,
   "metadata": {
    "execution": {
     "iopub.execute_input": "2021-11-23T10:14:29.912593Z",
     "iopub.status.busy": "2021-11-23T10:14:29.911983Z",
     "iopub.status.idle": "2021-11-23T10:16:25.626682Z",
     "shell.execute_reply": "2021-11-23T10:16:25.627184Z"
    },
    "papermill": {
     "duration": 115.751034,
     "end_time": "2021-11-23T10:16:25.627378",
     "exception": false,
     "start_time": "2021-11-23T10:14:29.876344",
     "status": "completed"
    },
    "tags": []
   },
   "outputs": [],
   "source": [
    "# Create Image_features dict \n",
    "Image_features = {}\n",
    "for img in Images:\n",
    "  img_ = cv2.imread(img)\n",
    "  img_ = cv2.cvtColor(img_, cv2.COLOR_BGR2RGB)\n",
    "  img_ = cv2.resize(img_, (224, 224))\n",
    "  img_ = img_.reshape(1, 224, 224, 3)\n",
    "  pred = model1.predict(img_).reshape(2048,)\n",
    "  img_name = img.split('/')[-1]\n",
    "  Image_features[img_name] =  pred"
   ]
  },
  {
   "cell_type": "code",
   "execution_count": 11,
   "metadata": {
    "execution": {
     "iopub.execute_input": "2021-11-23T10:16:25.920714Z",
     "iopub.status.busy": "2021-11-23T10:16:25.920132Z",
     "iopub.status.idle": "2021-11-23T10:16:25.925188Z",
     "shell.execute_reply": "2021-11-23T10:16:25.925596Z",
     "shell.execute_reply.started": "2021-11-23T08:39:17.716996Z"
    },
    "papermill": {
     "duration": 0.042887,
     "end_time": "2021-11-23T10:16:25.925759",
     "exception": false,
     "start_time": "2021-11-23T10:16:25.882872",
     "status": "completed"
    },
    "tags": []
   },
   "outputs": [
    {
     "data": {
      "text/plain": [
       "2000"
      ]
     },
     "execution_count": 11,
     "metadata": {},
     "output_type": "execute_result"
    }
   ],
   "source": [
    "len(Image_features)"
   ]
  },
  {
   "cell_type": "code",
   "execution_count": 12,
   "metadata": {
    "execution": {
     "iopub.execute_input": "2021-11-23T10:16:25.997992Z",
     "iopub.status.busy": "2021-11-23T10:16:25.997439Z",
     "iopub.status.idle": "2021-11-23T10:16:26.113328Z",
     "shell.execute_reply": "2021-11-23T10:16:26.112821Z",
     "shell.execute_reply.started": "2021-11-23T08:39:24.348548Z"
    },
    "papermill": {
     "duration": 0.154415,
     "end_time": "2021-11-23T10:16:26.113461",
     "exception": false,
     "start_time": "2021-11-23T10:16:25.959046",
     "status": "completed"
    },
    "tags": []
   },
   "outputs": [],
   "source": [
    "caption_path = '../input/flickr8k-sau/Flickr_Data/Flickr_TextData/Flickr8k.token.txt'\n",
    "captions_data = open(caption_path, 'rb').read().decode('utf-8').split('\\n')"
   ]
  },
  {
   "cell_type": "code",
   "execution_count": 13,
   "metadata": {
    "execution": {
     "iopub.execute_input": "2021-11-23T10:16:26.190031Z",
     "iopub.status.busy": "2021-11-23T10:16:26.188845Z",
     "iopub.status.idle": "2021-11-23T10:16:26.191991Z",
     "shell.execute_reply": "2021-11-23T10:16:26.192391Z",
     "shell.execute_reply.started": "2021-11-23T08:39:24.368131Z"
    },
    "papermill": {
     "duration": 0.043756,
     "end_time": "2021-11-23T10:16:26.192521",
     "exception": false,
     "start_time": "2021-11-23T10:16:26.148765",
     "status": "completed"
    },
    "tags": []
   },
   "outputs": [
    {
     "data": {
      "text/plain": [
       "40461"
      ]
     },
     "execution_count": 13,
     "metadata": {},
     "output_type": "execute_result"
    }
   ],
   "source": [
    "captions_data.__len__()"
   ]
  },
  {
   "cell_type": "code",
   "execution_count": 14,
   "metadata": {
    "execution": {
     "iopub.execute_input": "2021-11-23T10:16:26.307755Z",
     "iopub.status.busy": "2021-11-23T10:16:26.307169Z",
     "iopub.status.idle": "2021-11-23T10:16:26.311131Z",
     "shell.execute_reply": "2021-11-23T10:16:26.310649Z",
     "shell.execute_reply.started": "2021-11-23T08:39:24.375818Z"
    },
    "papermill": {
     "duration": 0.084963,
     "end_time": "2021-11-23T10:16:26.311249",
     "exception": false,
     "start_time": "2021-11-23T10:16:26.226286",
     "status": "completed"
    },
    "tags": []
   },
   "outputs": [],
   "source": [
    "captions= {}\n",
    "try:\n",
    "  for i in captions_data:\n",
    "      img = i.split('\\t')[0][:-2] \n",
    "      caption = i.split('\\t')[-1]\n",
    "      if img in Image_features:\n",
    "        if img not in captions:\n",
    "          captions[img] = [caption]\n",
    "        else:\n",
    "          captions[img].append(caption)\n",
    "except:\n",
    "  pass"
   ]
  },
  {
   "cell_type": "code",
   "execution_count": 15,
   "metadata": {
    "execution": {
     "iopub.execute_input": "2021-11-23T10:16:26.386145Z",
     "iopub.status.busy": "2021-11-23T10:16:26.384914Z",
     "iopub.status.idle": "2021-11-23T10:16:26.388163Z",
     "shell.execute_reply": "2021-11-23T10:16:26.388583Z",
     "shell.execute_reply.started": "2021-11-23T08:39:24.425032Z"
    },
    "papermill": {
     "duration": 0.043605,
     "end_time": "2021-11-23T10:16:26.388734",
     "exception": false,
     "start_time": "2021-11-23T10:16:26.345129",
     "status": "completed"
    },
    "tags": []
   },
   "outputs": [
    {
     "data": {
      "text/plain": [
       "2000"
      ]
     },
     "execution_count": 15,
     "metadata": {},
     "output_type": "execute_result"
    }
   ],
   "source": [
    "captions.__len__()"
   ]
  },
  {
   "cell_type": "code",
   "execution_count": 16,
   "metadata": {
    "execution": {
     "iopub.execute_input": "2021-11-23T10:16:26.464902Z",
     "iopub.status.busy": "2021-11-23T10:16:26.464054Z",
     "iopub.status.idle": "2021-11-23T10:16:29.679183Z",
     "shell.execute_reply": "2021-11-23T10:16:29.678660Z",
     "shell.execute_reply.started": "2021-11-23T08:39:24.435636Z"
    },
    "papermill": {
     "duration": 3.256537,
     "end_time": "2021-11-23T10:16:29.679321",
     "exception": false,
     "start_time": "2021-11-23T10:16:26.422784",
     "status": "completed"
    },
    "tags": []
   },
   "outputs": [],
   "source": [
    "# add 'start' and 'end' to text\n",
    "def preprocess(txt):\n",
    "    modified = txt.lower()\n",
    "    trans = (\"\", \"\", string.punctuation)\n",
    "    modified = modified.translate(trans)\n",
    "    stop_words = set(stopwords.words('english'))\n",
    "    modified = ' '.join(modified.split())\n",
    "    tokens = nltk.word_tokenize(modified)\n",
    "    tokens = [token for token in tokens if token not in stop_words]\n",
    "    modified = ' '.join(tokens)\n",
    "    modified = 'start ' + modified + ' end'\n",
    "    return modified\n",
    "\n",
    "for i, t in captions.items():\n",
    "    for t_ in t:\n",
    "        captions[i][t.index(t_)] = preprocess(t_)"
   ]
  },
  {
   "cell_type": "code",
   "execution_count": 17,
   "metadata": {
    "execution": {
     "iopub.execute_input": "2021-11-23T10:16:29.788306Z",
     "iopub.status.busy": "2021-11-23T10:16:29.786282Z",
     "iopub.status.idle": "2021-11-23T10:16:29.788979Z",
     "shell.execute_reply": "2021-11-23T10:16:29.789462Z",
     "shell.execute_reply.started": "2021-11-23T08:39:27.621038Z"
    },
    "papermill": {
     "duration": 0.069474,
     "end_time": "2021-11-23T10:16:29.789624",
     "exception": false,
     "start_time": "2021-11-23T10:16:29.720150",
     "status": "completed"
    },
    "tags": []
   },
   "outputs": [],
   "source": [
    "# Vocabulary Dictionary\n",
    "count_words = {}\n",
    "count = 0\n",
    "for k,vv in captions.items():\n",
    "    for v in vv:\n",
    "        for word in v.split():\n",
    "            if word not in count_words.keys():\n",
    "                count_words[word] = count\n",
    "                count+=1"
   ]
  },
  {
   "cell_type": "code",
   "execution_count": 18,
   "metadata": {
    "execution": {
     "iopub.execute_input": "2021-11-23T10:16:29.864292Z",
     "iopub.status.busy": "2021-11-23T10:16:29.863516Z",
     "iopub.status.idle": "2021-11-23T10:16:29.866389Z",
     "shell.execute_reply": "2021-11-23T10:16:29.866793Z",
     "shell.execute_reply.started": "2021-11-23T08:39:27.657709Z"
    },
    "papermill": {
     "duration": 0.042564,
     "end_time": "2021-11-23T10:16:29.866945",
     "exception": false,
     "start_time": "2021-11-23T10:16:29.824381",
     "status": "completed"
    },
    "tags": []
   },
   "outputs": [
    {
     "data": {
      "text/plain": [
       "4601"
      ]
     },
     "execution_count": 18,
     "metadata": {},
     "output_type": "execute_result"
    }
   ],
   "source": [
    "len(count_words)"
   ]
  },
  {
   "cell_type": "code",
   "execution_count": 19,
   "metadata": {
    "execution": {
     "iopub.execute_input": "2021-11-23T10:16:29.965329Z",
     "iopub.status.busy": "2021-11-23T10:16:29.955096Z",
     "iopub.status.idle": "2021-11-23T10:16:29.985192Z",
     "shell.execute_reply": "2021-11-23T10:16:29.984590Z",
     "shell.execute_reply.started": "2021-11-23T08:39:27.663909Z"
    },
    "papermill": {
     "duration": 0.081633,
     "end_time": "2021-11-23T10:16:29.985323",
     "exception": false,
     "start_time": "2021-11-23T10:16:29.903690",
     "status": "completed"
    },
    "tags": []
   },
   "outputs": [],
   "source": [
    "# Encoding the text\n",
    "for i, t in captions.items():\n",
    "  for t_ in t:\n",
    "    encoded = []\n",
    "    for word in t_.split():\n",
    "      encoded.append(count_words[word])\n",
    "    captions[i][t.index(t_)] = encoded"
   ]
  },
  {
   "cell_type": "code",
   "execution_count": 21,
   "metadata": {
    "execution": {
     "iopub.execute_input": "2021-11-23T10:16:30.135417Z",
     "iopub.status.busy": "2021-11-23T10:16:30.134602Z",
     "iopub.status.idle": "2021-11-23T10:16:30.143829Z",
     "shell.execute_reply": "2021-11-23T10:16:30.144404Z",
     "shell.execute_reply.started": "2021-11-23T08:39:27.717786Z"
    },
    "papermill": {
     "duration": 0.047157,
     "end_time": "2021-11-23T10:16:30.144587",
     "exception": false,
     "start_time": "2021-11-23T10:16:30.097430",
     "status": "completed"
    },
    "tags": []
   },
   "outputs": [
    {
     "name": "stdout",
     "output_type": "stream",
     "text": [
      "23\n"
     ]
    }
   ],
   "source": [
    "# Maximum length in single caption\n",
    "Max_len = 0\n",
    "for i, t in captions.items():\n",
    "  for t_ in t:\n",
    "    if len(t_) > Max_len:\n",
    "      Max_len = len(t_)\n",
    "print(Max_len)"
   ]
  },
  {
   "cell_type": "code",
   "execution_count": 22,
   "metadata": {
    "execution": {
     "iopub.execute_input": "2021-11-23T10:16:30.224661Z",
     "iopub.status.busy": "2021-11-23T10:16:30.223804Z",
     "iopub.status.idle": "2021-11-23T10:16:30.226371Z",
     "shell.execute_reply": "2021-11-23T10:16:30.225934Z",
     "shell.execute_reply.started": "2021-11-23T08:39:27.733593Z"
    },
    "papermill": {
     "duration": 0.046641,
     "end_time": "2021-11-23T10:16:30.226480",
     "exception": false,
     "start_time": "2021-11-23T10:16:30.179839",
     "status": "completed"
    },
    "tags": []
   },
   "outputs": [],
   "source": [
    "vocab_size = len(count_words)\n",
    "def X_generator(photo, caption):\n",
    "  X = []\n",
    "\n",
    "  for k, vv in caption.items():\n",
    "    for v in vv:\n",
    "      for i in range(1, len(v)):\n",
    "        X.append(photo[k])\n",
    "  return np.array(X)\n",
    "\n",
    "def Y_in_generator(caption):\n",
    "  Y_IN = []\n",
    "  for k, vv in caption.items():\n",
    "    for v in vv:\n",
    "      for i in range(1, len(v)):\n",
    "        in_seq = [v[:i]] #Every time it takes +=1 items\n",
    "        in_seq = pad_sequences(in_seq, padding = 'post', maxlen = Max_len)[0]\n",
    "        Y_IN.append(in_seq)\n",
    "  return np.array(Y_IN)\n",
    "\n",
    "def Y_out_generator(caption):\n",
    "  Y_OUT = []\n",
    "  for k, vv in caption.items():\n",
    "    for v in vv:\n",
    "      for i in range(1, len(v)):\n",
    "        out_seq = v[i]\n",
    "        out_seq = to_categorical([out_seq], num_classes=vocab_size+1 )[0] \n",
    "        Y_OUT.append(out_seq)\n",
    "  return Y_OUT\n"
   ]
  },
  {
   "cell_type": "code",
   "execution_count": 23,
   "metadata": {
    "execution": {
     "iopub.execute_input": "2021-11-23T10:16:30.299805Z",
     "iopub.status.busy": "2021-11-23T10:16:30.299002Z",
     "iopub.status.idle": "2021-11-23T10:16:30.498172Z",
     "shell.execute_reply": "2021-11-23T10:16:30.497097Z",
     "shell.execute_reply.started": "2021-11-23T08:39:27.744438Z"
    },
    "papermill": {
     "duration": 0.237358,
     "end_time": "2021-11-23T10:16:30.498304",
     "exception": false,
     "start_time": "2021-11-23T10:16:30.260946",
     "status": "completed"
    },
    "tags": []
   },
   "outputs": [],
   "source": [
    "X = X_generator(Image_features, captions)"
   ]
  },
  {
   "cell_type": "code",
   "execution_count": 24,
   "metadata": {
    "execution": {
     "iopub.execute_input": "2021-11-23T10:16:30.789038Z",
     "iopub.status.busy": "2021-11-23T10:16:30.725661Z",
     "iopub.status.idle": "2021-11-23T10:16:32.445697Z",
     "shell.execute_reply": "2021-11-23T10:16:32.445184Z",
     "shell.execute_reply.started": "2021-11-23T08:39:27.953385Z"
    },
    "papermill": {
     "duration": 1.913023,
     "end_time": "2021-11-23T10:16:32.445845",
     "exception": false,
     "start_time": "2021-11-23T10:16:30.532822",
     "status": "completed"
    },
    "tags": []
   },
   "outputs": [],
   "source": [
    "Y_in = Y_in_generator(captions)"
   ]
  },
  {
   "cell_type": "code",
   "execution_count": 25,
   "metadata": {
    "execution": {
     "iopub.execute_input": "2021-11-23T10:16:32.519434Z",
     "iopub.status.busy": "2021-11-23T10:16:32.518529Z",
     "iopub.status.idle": "2021-11-23T10:16:34.526205Z",
     "shell.execute_reply": "2021-11-23T10:16:34.525681Z",
     "shell.execute_reply.started": "2021-11-23T08:39:30.093509Z"
    },
    "papermill": {
     "duration": 2.0462,
     "end_time": "2021-11-23T10:16:34.526331",
     "exception": false,
     "start_time": "2021-11-23T10:16:32.480131",
     "status": "completed"
    },
    "tags": []
   },
   "outputs": [],
   "source": [
    "Y_out = Y_out_generator(captions)"
   ]
  },
  {
   "cell_type": "code",
   "execution_count": 26,
   "metadata": {
    "execution": {
     "iopub.execute_input": "2021-11-23T10:16:34.600258Z",
     "iopub.status.busy": "2021-11-23T10:16:34.599584Z",
     "iopub.status.idle": "2021-11-23T10:16:34.602314Z",
     "shell.execute_reply": "2021-11-23T10:16:34.602902Z",
     "shell.execute_reply.started": "2021-11-23T08:39:31.920330Z"
    },
    "papermill": {
     "duration": 0.042219,
     "end_time": "2021-11-23T10:16:34.603073",
     "exception": false,
     "start_time": "2021-11-23T10:16:34.560854",
     "status": "completed"
    },
    "tags": []
   },
   "outputs": [
    {
     "name": "stdout",
     "output_type": "stream",
     "text": [
      "82801 82801 82801\n"
     ]
    }
   ],
   "source": [
    "print(X.__len__(), Y_in.__len__(), Y_out.__len__())"
   ]
  },
  {
   "cell_type": "code",
   "execution_count": 27,
   "metadata": {
    "execution": {
     "iopub.execute_input": "2021-11-23T10:16:34.679099Z",
     "iopub.status.busy": "2021-11-23T10:16:34.677976Z",
     "iopub.status.idle": "2021-11-23T10:16:35.578006Z",
     "shell.execute_reply": "2021-11-23T10:16:35.577502Z",
     "shell.execute_reply.started": "2021-11-23T08:39:31.928060Z"
    },
    "papermill": {
     "duration": 0.939494,
     "end_time": "2021-11-23T10:16:35.578141",
     "exception": false,
     "start_time": "2021-11-23T10:16:34.638647",
     "status": "completed"
    },
    "tags": []
   },
   "outputs": [],
   "source": [
    "X = np.array(X)\n",
    "Y_in = np.array(Y_in, dtype='float64')\n",
    "Y_out = np.array(Y_out, dtype='float64')"
   ]
  },
  {
   "cell_type": "code",
   "execution_count": 28,
   "metadata": {
    "execution": {
     "iopub.execute_input": "2021-11-23T10:16:35.728153Z",
     "iopub.status.busy": "2021-11-23T10:16:35.727215Z",
     "iopub.status.idle": "2021-11-23T10:16:36.554281Z",
     "shell.execute_reply": "2021-11-23T10:16:36.554949Z",
     "shell.execute_reply.started": "2021-11-23T08:39:32.834229Z"
    },
    "papermill": {
     "duration": 0.872081,
     "end_time": "2021-11-23T10:16:36.555159",
     "exception": false,
     "start_time": "2021-11-23T10:16:35.683078",
     "status": "completed"
    },
    "tags": []
   },
   "outputs": [
    {
     "name": "stdout",
     "output_type": "stream",
     "text": [
      "Model: \"sequential\"\n",
      "_________________________________________________________________\n",
      "Layer (type)                 Output Shape              Param #   \n",
      "=================================================================\n",
      "dense (Dense)                (None, 128)               262272    \n",
      "_________________________________________________________________\n",
      "repeat_vector (RepeatVector) (None, 23, 128)           0         \n",
      "=================================================================\n",
      "Total params: 262,272\n",
      "Trainable params: 262,272\n",
      "Non-trainable params: 0\n",
      "_________________________________________________________________\n",
      "Model: \"sequential_1\"\n",
      "_________________________________________________________________\n",
      "Layer (type)                 Output Shape              Param #   \n",
      "=================================================================\n",
      "embedding (Embedding)        (None, 23, 128)           588928    \n",
      "_________________________________________________________________\n",
      "lstm (LSTM)                  (None, 23, 256)           394240    \n",
      "_________________________________________________________________\n",
      "time_distributed (TimeDistri (None, 23, 128)           32896     \n",
      "=================================================================\n",
      "Total params: 1,016,064\n",
      "Trainable params: 1,016,064\n",
      "Non-trainable params: 0\n",
      "_________________________________________________________________\n",
      "Model: \"model_1\"\n",
      "__________________________________________________________________________________________________\n",
      "Layer (type)                    Output Shape         Param #     Connected to                     \n",
      "==================================================================================================\n",
      "embedding_input (InputLayer)    [(None, 23)]         0                                            \n",
      "__________________________________________________________________________________________________\n",
      "dense_input (InputLayer)        [(None, 2048)]       0                                            \n",
      "__________________________________________________________________________________________________\n",
      "embedding (Embedding)           (None, 23, 128)      588928      embedding_input[0][0]            \n",
      "__________________________________________________________________________________________________\n",
      "dense (Dense)                   (None, 128)          262272      dense_input[0][0]                \n",
      "__________________________________________________________________________________________________\n",
      "lstm (LSTM)                     (None, 23, 256)      394240      embedding[0][0]                  \n",
      "__________________________________________________________________________________________________\n",
      "repeat_vector (RepeatVector)    (None, 23, 128)      0           dense[0][0]                      \n",
      "__________________________________________________________________________________________________\n",
      "time_distributed (TimeDistribut (None, 23, 128)      32896       lstm[0][0]                       \n",
      "__________________________________________________________________________________________________\n",
      "concatenate (Concatenate)       (None, 23, 256)      0           repeat_vector[0][0]              \n",
      "                                                                 time_distributed[0][0]           \n",
      "__________________________________________________________________________________________________\n",
      "lstm_1 (LSTM)                   (None, 23, 128)      197120      concatenate[0][0]                \n",
      "__________________________________________________________________________________________________\n",
      "lstm_2 (LSTM)                   (None, 512)          1312768     lstm_1[0][0]                     \n",
      "__________________________________________________________________________________________________\n",
      "dense_2 (Dense)                 (None, 4602)         2360826     lstm_2[0][0]                     \n",
      "__________________________________________________________________________________________________\n",
      "activation (Activation)         (None, 4602)         0           dense_2[0][0]                    \n",
      "==================================================================================================\n",
      "Total params: 5,149,050\n",
      "Trainable params: 5,149,050\n",
      "Non-trainable params: 0\n",
      "__________________________________________________________________________________________________\n"
     ]
    }
   ],
   "source": [
    "embedding_size = 128\n",
    "max_len = Max_len\n",
    "vocab_size = len(count_words)\n",
    "\n",
    "image_model = Sequential()\n",
    "\n",
    "image_model.add(Dense(embedding_size, input_shape=(2048,), activation='relu'))\n",
    "image_model.add(RepeatVector(max_len))\n",
    "\n",
    "image_model.summary()\n",
    "\n",
    "language_model = Sequential()\n",
    "\n",
    "language_model.add(Embedding(input_dim=vocab_size, output_dim=embedding_size, input_length=max_len))\n",
    "language_model.add(LSTM(256, return_sequences=True))\n",
    "language_model.add(TimeDistributed(Dense(embedding_size)))\n",
    "\n",
    "language_model.summary()\n",
    "\n",
    "concate = Concatenate()([image_model.output, language_model.output])\n",
    "concate = LSTM(128, return_sequences=True)(concate)\n",
    "concate = LSTM(512, return_sequences=False)(concate)\n",
    "concate = Dense(vocab_size+1)(concate)\n",
    "out = Activation('softmax')(concate)\n",
    "model = Model(inputs=[image_model.input, language_model.input], outputs = out)\n",
    "\n",
    "model.compile(loss='categorical_crossentropy', optimizer='adam', metrics=['accuracy'])\n",
    "model.summary()"
   ]
  },
  {
   "cell_type": "code",
   "execution_count": 29,
   "metadata": {
    "execution": {
     "iopub.execute_input": "2021-11-23T10:16:36.632521Z",
     "iopub.status.busy": "2021-11-23T10:16:36.631428Z",
     "iopub.status.idle": "2021-11-23T10:30:53.579612Z",
     "shell.execute_reply": "2021-11-23T10:30:53.579104Z",
     "shell.execute_reply.started": "2021-11-23T08:49:07.136506Z"
    },
    "papermill": {
     "duration": 856.988665,
     "end_time": "2021-11-23T10:30:53.579767",
     "exception": false,
     "start_time": "2021-11-23T10:16:36.591102",
     "status": "completed"
    },
    "tags": []
   },
   "outputs": [
    {
     "name": "stderr",
     "output_type": "stream",
     "text": [
      "2021-11-23 10:16:37.607829: W tensorflow/core/framework/cpu_allocator_impl.cc:80] Allocation of 1524200808 exceeds 10% of free system memory.\n"
     ]
    },
    {
     "name": "stdout",
     "output_type": "stream",
     "text": [
      "Epoch 1/100\n",
      "162/162 [==============================] - 12s 52ms/step - loss: 6.1636 - accuracy: 0.1161\n",
      "Epoch 2/100\n",
      "162/162 [==============================] - 8s 52ms/step - loss: 5.1356 - accuracy: 0.2342\n",
      "Epoch 3/100\n",
      "162/162 [==============================] - 8s 52ms/step - loss: 4.8139 - accuracy: 0.2497\n",
      "Epoch 4/100\n",
      "162/162 [==============================] - 8s 52ms/step - loss: 4.5936 - accuracy: 0.2680\n",
      "Epoch 5/100\n",
      "162/162 [==============================] - 8s 52ms/step - loss: 4.4472 - accuracy: 0.2759\n",
      "Epoch 6/100\n",
      "162/162 [==============================] - 8s 52ms/step - loss: 4.3548 - accuracy: 0.2800\n",
      "Epoch 7/100\n",
      "162/162 [==============================] - 8s 52ms/step - loss: 4.2584 - accuracy: 0.2842\n",
      "Epoch 8/100\n",
      "162/162 [==============================] - 8s 52ms/step - loss: 4.1839 - accuracy: 0.2868\n",
      "Epoch 9/100\n",
      "162/162 [==============================] - 8s 52ms/step - loss: 4.0425 - accuracy: 0.2980\n",
      "Epoch 10/100\n",
      "162/162 [==============================] - 8s 52ms/step - loss: 3.9471 - accuracy: 0.3029\n",
      "Epoch 11/100\n",
      "162/162 [==============================] - 8s 52ms/step - loss: 3.8388 - accuracy: 0.3104\n",
      "Epoch 12/100\n",
      "162/162 [==============================] - 9s 53ms/step - loss: 3.7250 - accuracy: 0.3232\n",
      "Epoch 13/100\n",
      "162/162 [==============================] - 8s 51ms/step - loss: 3.6324 - accuracy: 0.3253\n",
      "Epoch 14/100\n",
      "162/162 [==============================] - 8s 52ms/step - loss: 3.5614 - accuracy: 0.3303\n",
      "Epoch 15/100\n",
      "162/162 [==============================] - 8s 52ms/step - loss: 3.4629 - accuracy: 0.3404\n",
      "Epoch 16/100\n",
      "162/162 [==============================] - 9s 53ms/step - loss: 3.3637 - accuracy: 0.3485\n",
      "Epoch 17/100\n",
      "162/162 [==============================] - 8s 51ms/step - loss: 3.2836 - accuracy: 0.3549\n",
      "Epoch 18/100\n",
      "162/162 [==============================] - 9s 54ms/step - loss: 3.2209 - accuracy: 0.3608\n",
      "Epoch 19/100\n",
      "162/162 [==============================] - 8s 52ms/step - loss: 3.1606 - accuracy: 0.3652\n",
      "Epoch 20/100\n",
      "162/162 [==============================] - 9s 53ms/step - loss: 3.0731 - accuracy: 0.3749\n",
      "Epoch 21/100\n",
      "162/162 [==============================] - 8s 51ms/step - loss: 3.0045 - accuracy: 0.3821\n",
      "Epoch 22/100\n",
      "162/162 [==============================] - 9s 53ms/step - loss: 2.8945 - accuracy: 0.3952\n",
      "Epoch 23/100\n",
      "162/162 [==============================] - 8s 52ms/step - loss: 2.8525 - accuracy: 0.3956\n",
      "Epoch 24/100\n",
      "162/162 [==============================] - 9s 53ms/step - loss: 2.7686 - accuracy: 0.4052\n",
      "Epoch 25/100\n",
      "162/162 [==============================] - 9s 53ms/step - loss: 2.7023 - accuracy: 0.4136\n",
      "Epoch 26/100\n",
      "162/162 [==============================] - 8s 52ms/step - loss: 2.6428 - accuracy: 0.4201\n",
      "Epoch 27/100\n",
      "162/162 [==============================] - 9s 53ms/step - loss: 2.5612 - accuracy: 0.4288\n",
      "Epoch 28/100\n",
      "162/162 [==============================] - 8s 52ms/step - loss: 2.4835 - accuracy: 0.4388\n",
      "Epoch 29/100\n",
      "162/162 [==============================] - 9s 53ms/step - loss: 2.4290 - accuracy: 0.4484\n",
      "Epoch 30/100\n",
      "162/162 [==============================] - 8s 51ms/step - loss: 2.3671 - accuracy: 0.4541\n",
      "Epoch 31/100\n",
      "162/162 [==============================] - 9s 53ms/step - loss: 2.3122 - accuracy: 0.4636\n",
      "Epoch 32/100\n",
      "162/162 [==============================] - 8s 52ms/step - loss: 2.2433 - accuracy: 0.4735\n",
      "Epoch 33/100\n",
      "162/162 [==============================] - 9s 54ms/step - loss: 2.1877 - accuracy: 0.4790\n",
      "Epoch 34/100\n",
      "162/162 [==============================] - 8s 52ms/step - loss: 2.1286 - accuracy: 0.4866\n",
      "Epoch 35/100\n",
      "162/162 [==============================] - 9s 53ms/step - loss: 2.0759 - accuracy: 0.4965\n",
      "Epoch 36/100\n",
      "162/162 [==============================] - 8s 52ms/step - loss: 2.0235 - accuracy: 0.5057\n",
      "Epoch 37/100\n",
      "162/162 [==============================] - 9s 54ms/step - loss: 1.9720 - accuracy: 0.5111\n",
      "Epoch 38/100\n",
      "162/162 [==============================] - 8s 52ms/step - loss: 1.9197 - accuracy: 0.5218\n",
      "Epoch 39/100\n",
      "162/162 [==============================] - 9s 53ms/step - loss: 1.8744 - accuracy: 0.5285\n",
      "Epoch 40/100\n",
      "162/162 [==============================] - 8s 52ms/step - loss: 1.8258 - accuracy: 0.5363\n",
      "Epoch 41/100\n",
      "162/162 [==============================] - 9s 54ms/step - loss: 1.7762 - accuracy: 0.5449\n",
      "Epoch 42/100\n",
      "162/162 [==============================] - 8s 52ms/step - loss: 1.7383 - accuracy: 0.5512\n",
      "Epoch 43/100\n",
      "162/162 [==============================] - 9s 53ms/step - loss: 1.7001 - accuracy: 0.5580\n",
      "Epoch 44/100\n",
      "162/162 [==============================] - 9s 53ms/step - loss: 1.6572 - accuracy: 0.5629\n",
      "Epoch 45/100\n",
      "162/162 [==============================] - 9s 54ms/step - loss: 1.6097 - accuracy: 0.5724\n",
      "Epoch 46/100\n",
      "162/162 [==============================] - 8s 52ms/step - loss: 1.5711 - accuracy: 0.5807\n",
      "Epoch 47/100\n",
      "162/162 [==============================] - 8s 51ms/step - loss: 1.5317 - accuracy: 0.5897\n",
      "Epoch 48/100\n",
      "162/162 [==============================] - 8s 49ms/step - loss: 1.4857 - accuracy: 0.5966\n",
      "Epoch 49/100\n",
      "162/162 [==============================] - 8s 51ms/step - loss: 1.4450 - accuracy: 0.6041\n",
      "Epoch 50/100\n",
      "162/162 [==============================] - 8s 51ms/step - loss: 1.4236 - accuracy: 0.6086\n",
      "Epoch 51/100\n",
      "162/162 [==============================] - 8s 52ms/step - loss: 1.3837 - accuracy: 0.6166\n",
      "Epoch 52/100\n",
      "162/162 [==============================] - 8s 51ms/step - loss: 1.3400 - accuracy: 0.6272\n",
      "Epoch 53/100\n",
      "162/162 [==============================] - 9s 54ms/step - loss: 1.3092 - accuracy: 0.6339\n",
      "Epoch 54/100\n",
      "162/162 [==============================] - 9s 53ms/step - loss: 1.2792 - accuracy: 0.6375\n",
      "Epoch 55/100\n",
      "162/162 [==============================] - 8s 52ms/step - loss: 1.2436 - accuracy: 0.6467\n",
      "Epoch 56/100\n",
      "162/162 [==============================] - 8s 51ms/step - loss: 1.2151 - accuracy: 0.6542\n",
      "Epoch 57/100\n",
      "162/162 [==============================] - 9s 55ms/step - loss: 1.1859 - accuracy: 0.6588\n",
      "Epoch 58/100\n",
      "162/162 [==============================] - 9s 53ms/step - loss: 1.1520 - accuracy: 0.6661\n",
      "Epoch 59/100\n",
      "162/162 [==============================] - 8s 52ms/step - loss: 1.1317 - accuracy: 0.6736\n",
      "Epoch 60/100\n",
      "162/162 [==============================] - 8s 52ms/step - loss: 1.0966 - accuracy: 0.6808\n",
      "Epoch 61/100\n",
      "162/162 [==============================] - 9s 54ms/step - loss: 1.0657 - accuracy: 0.6901\n",
      "Epoch 62/100\n",
      "162/162 [==============================] - 9s 53ms/step - loss: 1.0434 - accuracy: 0.6936\n",
      "Epoch 63/100\n",
      "162/162 [==============================] - 8s 52ms/step - loss: 1.0099 - accuracy: 0.7015\n",
      "Epoch 64/100\n",
      "162/162 [==============================] - 8s 52ms/step - loss: 0.9866 - accuracy: 0.7061\n",
      "Epoch 65/100\n",
      "162/162 [==============================] - 9s 55ms/step - loss: 0.9591 - accuracy: 0.7124\n",
      "Epoch 66/100\n",
      "162/162 [==============================] - 8s 52ms/step - loss: 0.9336 - accuracy: 0.7222\n",
      "Epoch 67/100\n",
      "162/162 [==============================] - 8s 52ms/step - loss: 0.9212 - accuracy: 0.7223\n",
      "Epoch 68/100\n",
      "162/162 [==============================] - 8s 52ms/step - loss: 0.8895 - accuracy: 0.7324\n",
      "Epoch 69/100\n",
      "162/162 [==============================] - 9s 55ms/step - loss: 0.8764 - accuracy: 0.7345\n",
      "Epoch 70/100\n",
      "162/162 [==============================] - 8s 51ms/step - loss: 0.8499 - accuracy: 0.7442\n",
      "Epoch 71/100\n",
      "162/162 [==============================] - 8s 52ms/step - loss: 0.8320 - accuracy: 0.7432\n",
      "Epoch 72/100\n",
      "162/162 [==============================] - 8s 52ms/step - loss: 0.8187 - accuracy: 0.7459\n",
      "Epoch 73/100\n",
      "162/162 [==============================] - 9s 57ms/step - loss: 0.7857 - accuracy: 0.7576\n",
      "Epoch 74/100\n",
      "162/162 [==============================] - 8s 51ms/step - loss: 0.7584 - accuracy: 0.7643\n",
      "Epoch 75/100\n",
      "162/162 [==============================] - 8s 52ms/step - loss: 0.7482 - accuracy: 0.7700\n",
      "Epoch 76/100\n",
      "162/162 [==============================] - 8s 52ms/step - loss: 0.7308 - accuracy: 0.7742\n",
      "Epoch 77/100\n",
      "162/162 [==============================] - 9s 55ms/step - loss: 0.7051 - accuracy: 0.7813\n",
      "Epoch 78/100\n",
      "162/162 [==============================] - 9s 52ms/step - loss: 0.7043 - accuracy: 0.7795\n",
      "Epoch 79/100\n",
      "162/162 [==============================] - 8s 51ms/step - loss: 0.6762 - accuracy: 0.7886\n",
      "Epoch 80/100\n",
      "162/162 [==============================] - 8s 52ms/step - loss: 0.6604 - accuracy: 0.7930\n",
      "Epoch 81/100\n",
      "162/162 [==============================] - 9s 54ms/step - loss: 0.6508 - accuracy: 0.7963\n",
      "Epoch 82/100\n",
      "162/162 [==============================] - 9s 53ms/step - loss: 0.6268 - accuracy: 0.7982\n",
      "Epoch 83/100\n",
      "162/162 [==============================] - 8s 51ms/step - loss: 0.6224 - accuracy: 0.8025\n",
      "Epoch 84/100\n",
      "162/162 [==============================] - 9s 53ms/step - loss: 0.6188 - accuracy: 0.8023\n",
      "Epoch 85/100\n",
      "162/162 [==============================] - 8s 52ms/step - loss: 0.6024 - accuracy: 0.8060\n",
      "Epoch 86/100\n",
      "162/162 [==============================] - 9s 55ms/step - loss: 0.5878 - accuracy: 0.8106\n",
      "Epoch 87/100\n",
      "162/162 [==============================] - 8s 52ms/step - loss: 0.5720 - accuracy: 0.8137\n",
      "Epoch 88/100\n",
      "162/162 [==============================] - 8s 52ms/step - loss: 0.5535 - accuracy: 0.8213\n",
      "Epoch 89/100\n",
      "162/162 [==============================] - 8s 52ms/step - loss: 0.5516 - accuracy: 0.8185\n",
      "Epoch 90/100\n",
      "162/162 [==============================] - 9s 55ms/step - loss: 0.5336 - accuracy: 0.8261\n",
      "Epoch 91/100\n",
      "162/162 [==============================] - 8s 52ms/step - loss: 0.5315 - accuracy: 0.8258\n",
      "Epoch 92/100\n",
      "162/162 [==============================] - 8s 52ms/step - loss: 0.5236 - accuracy: 0.8271\n",
      "Epoch 93/100\n",
      "162/162 [==============================] - 8s 52ms/step - loss: 0.5199 - accuracy: 0.8292\n",
      "Epoch 94/100\n",
      "162/162 [==============================] - 9s 55ms/step - loss: 0.5135 - accuracy: 0.8289\n",
      "Epoch 95/100\n",
      "162/162 [==============================] - 9s 53ms/step - loss: 0.4884 - accuracy: 0.8392\n",
      "Epoch 96/100\n",
      "162/162 [==============================] - 8s 52ms/step - loss: 0.4879 - accuracy: 0.8361\n",
      "Epoch 97/100\n",
      "162/162 [==============================] - 8s 51ms/step - loss: 0.4883 - accuracy: 0.8362\n",
      "Epoch 98/100\n",
      "162/162 [==============================] - 9s 53ms/step - loss: 0.4803 - accuracy: 0.8391\n",
      "Epoch 99/100\n",
      "162/162 [==============================] - 9s 55ms/step - loss: 0.4611 - accuracy: 0.8441\n",
      "Epoch 100/100\n",
      "162/162 [==============================] - 8s 52ms/step - loss: 0.4519 - accuracy: 0.8458\n"
     ]
    },
    {
     "data": {
      "text/plain": [
       "<tensorflow.python.keras.callbacks.History at 0x7f58a4334490>"
      ]
     },
     "execution_count": 29,
     "metadata": {},
     "output_type": "execute_result"
    }
   ],
   "source": [
    "model.fit([X, Y_in], Y_out, batch_size=512, epochs=100)"
   ]
  },
  {
   "cell_type": "code",
   "execution_count": 30,
   "metadata": {
    "execution": {
     "iopub.execute_input": "2021-11-23T10:31:01.858620Z",
     "iopub.status.busy": "2021-11-23T10:31:01.857818Z",
     "iopub.status.idle": "2021-11-23T10:31:02.209583Z",
     "shell.execute_reply": "2021-11-23T10:31:02.209021Z",
     "shell.execute_reply.started": "2021-11-23T09:53:52.185449Z"
    },
    "papermill": {
     "duration": 4.52705,
     "end_time": "2021-11-23T10:31:02.209703",
     "exception": false,
     "start_time": "2021-11-23T10:30:57.682653",
     "status": "completed"
    },
    "tags": []
   },
   "outputs": [],
   "source": [
    "model1.save('resnet50.h5')"
   ]
  },
  {
   "cell_type": "code",
   "execution_count": 31,
   "metadata": {
    "execution": {
     "iopub.execute_input": "2021-11-23T10:31:10.690482Z",
     "iopub.status.busy": "2021-11-23T10:31:10.689584Z",
     "iopub.status.idle": "2021-11-23T10:31:10.848935Z",
     "shell.execute_reply": "2021-11-23T10:31:10.849671Z",
     "shell.execute_reply.started": "2021-11-23T09:13:23.701300Z"
    },
    "papermill": {
     "duration": 4.313058,
     "end_time": "2021-11-23T10:31:10.849875",
     "exception": false,
     "start_time": "2021-11-23T10:31:06.536817",
     "status": "completed"
    },
    "tags": []
   },
   "outputs": [],
   "source": [
    "model.save('image_caption_pred.h5')\n",
    "model.save_weights('weights.h5')\n",
    "np.save('vocab', count_words)"
   ]
  },
  {
   "cell_type": "code",
   "execution_count": 32,
   "metadata": {
    "execution": {
     "iopub.execute_input": "2021-11-23T10:31:19.744015Z",
     "iopub.status.busy": "2021-11-23T10:31:19.742393Z",
     "iopub.status.idle": "2021-11-23T10:31:19.744567Z",
     "shell.execute_reply": "2021-11-23T10:31:19.745001Z",
     "shell.execute_reply.started": "2021-11-23T09:44:18.554328Z"
    },
    "papermill": {
     "duration": 4.260896,
     "end_time": "2021-11-23T10:31:19.745143",
     "exception": false,
     "start_time": "2021-11-23T10:31:15.484247",
     "status": "completed"
    },
    "tags": []
   },
   "outputs": [],
   "source": [
    "def getImage(x):\n",
    "    \n",
    "    img_path = Images[x]\n",
    "\n",
    "    img = cv2.imread(img_path)\n",
    "    img = cv2.cvtColor(img, cv2.COLOR_BGR2RGB)\n",
    "\n",
    "    img = cv2.resize(img, (224, 224))\n",
    "\n",
    "    img = np.reshape(img, (1,224, 224,3))\n",
    "    \n",
    "    return img"
   ]
  },
  {
   "cell_type": "code",
   "execution_count": 33,
   "metadata": {
    "execution": {
     "iopub.execute_input": "2021-11-23T10:31:28.156540Z",
     "iopub.status.busy": "2021-11-23T10:31:28.155518Z",
     "iopub.status.idle": "2021-11-23T10:31:28.157289Z",
     "shell.execute_reply": "2021-11-23T10:31:28.157681Z",
     "shell.execute_reply.started": "2021-11-23T09:24:54.460642Z"
    },
    "papermill": {
     "duration": 4.319319,
     "end_time": "2021-11-23T10:31:28.157853",
     "exception": false,
     "start_time": "2021-11-23T10:31:23.838534",
     "status": "completed"
    },
    "tags": []
   },
   "outputs": [],
   "source": [
    "inverse_dict = {v:k for k,v in count_words.items()}"
   ]
  },
  {
   "cell_type": "code",
   "execution_count": 34,
   "metadata": {
    "_kg_hide-output": true,
    "execution": {
     "iopub.execute_input": "2021-11-23T10:31:36.580982Z",
     "iopub.status.busy": "2021-11-23T10:31:36.580236Z",
     "iopub.status.idle": "2021-11-23T10:31:38.141496Z",
     "shell.execute_reply": "2021-11-23T10:31:38.141926Z",
     "shell.execute_reply.started": "2021-11-23T10:05:14.644049Z"
    },
    "papermill": {
     "duration": 5.908778,
     "end_time": "2021-11-23T10:31:38.142078",
     "exception": false,
     "start_time": "2021-11-23T10:31:32.233300",
     "status": "completed"
    },
    "tags": []
   },
   "outputs": [
    {
     "data": {
      "text/plain": [
       "Text(0.5, 0, 'one dog chasing another dog carrying something mouth along beach .')"
      ]
     },
     "execution_count": 34,
     "metadata": {},
     "output_type": "execute_result"
    },
    {
     "data": {
      "image/png": "[encoded data removed]",
      "text/plain": [
       "<Figure size 432x288 with 1 Axes>"
      ]
     },
     "metadata": {
      "needs_background": "light"
     },
     "output_type": "display_data"
    }
   ],
   "source": [
    "caption = ''\n",
    "text_input = ['start']\n",
    "image = model1.predict(getImage(500)).reshape(1, 2048)\n",
    "count = 0\n",
    "while count < Max_len:\n",
    "    count = count+1\n",
    "    \n",
    "    encoded = list()\n",
    "    for x in text_input:\n",
    "        encoded.append(count_words[x])\n",
    "    \n",
    "    encoded = pad_sequences([encoded], padding='post', truncating='post', maxlen=Max_len)\n",
    "    \n",
    "    prediction = np.argmax(model.predict([image, encoded]))\n",
    "    word = inverse_dict[prediction]\n",
    "    caption =caption + ' '+ word\n",
    "    if word == 'end':\n",
    "            break\n",
    "\n",
    "    text_input.append(word)\n",
    "    text = \" \".join(text_input[1:])\n",
    "plt.figure()\n",
    "plt.imshow(plt.imread(Images[500]))\n",
    "plt.xlabel(text,)"
   ]
  },
  {
   "cell_type": "code",
   "execution_count": null,
   "metadata": {
    "papermill": {
     "duration": 4.095077,
     "end_time": "2021-11-23T10:31:46.314053",
     "exception": false,
     "start_time": "2021-11-23T10:31:42.218976",
     "status": "completed"
    },
    "tags": []
   },
   "outputs": [],
   "source": []
  }
 ],
 "metadata": {
  "kernelspec": {
   "display_name": "Python 3",
   "language": "python",
   "name": "python3"
  },
  "language_info": {
   "codemirror_mode": {
    "name": "ipython",
    "version": 3
   },
   "file_extension": ".py",
   "mimetype": "text/x-python",
   "name": "python",
   "nbconvert_exporter": "python",
   "pygments_lexer": "ipython3",
   "version": "3.8.5"
  },
  "papermill": {
   "default_parameters": {},
   "duration": 1062.244154,
   "end_time": "2021-11-23T10:31:54.347301",
   "environment_variables": {},
   "exception": null,
   "input_path": "__notebook__.ipynb",
   "output_path": "__notebook__.ipynb",
   "parameters": {},
   "start_time": "2021-11-23T10:14:12.103147",
   "version": "2.3.3"
  }
 },
 "nbformat": 4,
 "nbformat_minor": 5
}
